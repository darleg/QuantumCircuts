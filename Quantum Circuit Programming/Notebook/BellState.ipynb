{
 "cells": [
  {
   "cell_type": "markdown",
   "id": "52368187-dac9-4121-9d73-79e8e1b3ccb5",
   "metadata": {},
   "source": [
    "# Bell States"
   ]
  },
  {
   "cell_type": "markdown",
   "id": "4631f689-a987-438d-ae38-8996749195d8",
   "metadata": {},
   "source": [
    "## Imort Library"
   ]
  },
  {
   "cell_type": "code",
   "execution_count": 8,
   "id": "152dda62-d19a-4b64-bdd0-a33093c6490b",
   "metadata": {},
   "outputs": [],
   "source": [
    "from qiskit import QuantumCircuit, transpile\n",
    "from qiskit_aer import AerSimulator"
   ]
  },
  {
   "cell_type": "markdown",
   "id": "6469e640-ede3-4163-8b6d-451cbd55049f",
   "metadata": {},
   "source": [
    "## Create A Bell Quantum Circuit"
   ]
  },
  {
   "cell_type": "code",
   "execution_count": 9,
   "id": "46b8259e-9fa3-48e3-a376-2f8e43b6800a",
   "metadata": {},
   "outputs": [],
   "source": [
    "qc = QuantumCircuit(2)                      # Create Bell Quantum Circuit\n",
    "qc.h(0)                                     # Hadamard gate to qubit 0\n",
    "qc.cx(0, 1)                                 # Controlled-NOT gate (control q0 and target q1)\n",
    "qc.measure_all()                            # Measure all qubits"
   ]
  },
  {
   "cell_type": "markdown",
   "id": "1d0ddd7c-2d0e-4f36-9ede-f1a281d868aa",
   "metadata": {},
   "source": [
    "## Run Circuit in Quantum Simulator"
   ]
  },
  {
   "cell_type": "code",
   "execution_count": 10,
   "id": "a7647989-ff15-49c2-a9a6-c871d3f2d4ec",
   "metadata": {},
   "outputs": [],
   "source": [
    "simulator = AerSimulator()                  # Use this imulator\n",
    "compiled_circuit = transpile(qc, simulator) # Transpile the circuit\n",
    "job = simulator.run(compiled_circuit )      # Execute the circuit on the qasm simulator\n",
    "result = job.result()                       # Get results from the job"
   ]
  },
  {
   "cell_type": "markdown",
   "id": "c153e14f-5821-4bbb-bca4-5535343e34e3",
   "metadata": {},
   "source": [
    "## Draw Quantum Circuit Diagram with Text"
   ]
  },
  {
   "cell_type": "code",
   "execution_count": 11,
   "id": "52530d3b-75b0-46ef-92bf-c65de9881b63",
   "metadata": {},
   "outputs": [
    {
     "name": "stdout",
     "output_type": "stream",
     "text": [
      "Bell Quantum Circuit Diagram\n",
      "        ┌───┐      ░ ┌─┐   \n",
      "   q_0: ┤ H ├──■───░─┤M├───\n",
      "        └───┘┌─┴─┐ ░ └╥┘┌─┐\n",
      "   q_1: ─────┤ X ├─░──╫─┤M├\n",
      "             └───┘ ░  ║ └╥┘\n",
      "meas: 2/══════════════╩══╩═\n",
      "                      0  1 \n"
     ]
    }
   ],
   "source": [
    "print('Bell Quantum Circuit Diagram')       # Print Tittle\n",
    "print(qc.draw(output='text'))               # Show circuit in text"
   ]
  },
  {
   "cell_type": "code",
   "execution_count": 12,
   "id": "5be7c5f9-6533-4fa4-a1bf-ffbe9ff86acf",
   "metadata": {},
   "outputs": [
    {
     "name": "stdout",
     "output_type": "stream",
     "text": [
      "\n",
      "Total count for 00 and 11 are: {'11': 524, '00': 500}\n"
     ]
    }
   ],
   "source": [
    "counts = result.get_counts(qc)              # Get the counts of the results\n",
    "print(\"\\nTotal count for 00 and 11 are:\", counts)\n"
   ]
  },
  {
   "cell_type": "code",
   "execution_count": null,
   "id": "48e9d2e0-06ea-4fb1-9dfb-c12e55b6a609",
   "metadata": {},
   "outputs": [],
   "source": []
  }
 ],
 "metadata": {
  "kernelspec": {
   "display_name": "Python 3 (ipykernel)",
   "language": "python",
   "name": "python3"
  },
  "language_info": {
   "codemirror_mode": {
    "name": "ipython",
    "version": 3
   },
   "file_extension": ".py",
   "mimetype": "text/x-python",
   "name": "python",
   "nbconvert_exporter": "python",
   "pygments_lexer": "ipython3",
   "version": "3.12.3"
  }
 },
 "nbformat": 4,
 "nbformat_minor": 5
}
