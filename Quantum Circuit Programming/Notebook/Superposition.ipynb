{
 "cells": [
  {
   "cell_type": "markdown",
   "id": "fcb44de6-d556-4aed-bba6-13e930c255ae",
   "metadata": {},
   "source": [
    "# Superposition"
   ]
  },
  {
   "cell_type": "markdown",
   "id": "bfe3ab74-4e26-4910-a093-8f4eddc84e3b",
   "metadata": {},
   "source": [
    "Install python libraries\n",
    "\n",
    "pip install qiskit\n",
    "\n",
    "pip install qiskit-aer"
   ]
  },
  {
   "cell_type": "markdown",
   "id": "5f868a49-704e-436e-92e4-34334b3f64c4",
   "metadata": {},
   "source": [
    "### Import Quantum Circuit Libray and Quantum Simulator "
   ]
  },
  {
   "cell_type": "code",
   "execution_count": 1,
   "id": "1361d6d9-5d9c-44eb-a6fa-8ef2f3e13558",
   "metadata": {},
   "outputs": [],
   "source": [
    "from qiskit import QuantumCircuit, transpile\n",
    "from qiskit_aer import AerSimulator"
   ]
  },
  {
   "cell_type": "markdown",
   "id": "480800fd-2ddf-4533-9672-4478a8fe9392",
   "metadata": {},
   "source": [
    "### Create a Quantum Circuit"
   ]
  },
  {
   "cell_type": "markdown",
   "id": "9f12b71c-9bbc-4471-8d75-a0dcc8ca7a10",
   "metadata": {},
   "source": [
    "Here we've created a quantum circuit with one qubit and applied\n",
    "a Hadamard gate. This gate is the key to creating uniform\n",
    "superposition state. It takes our qubit form state |0> to an\n",
    "equal mix of |0> and |1>."
   ]
  },
  {
   "cell_type": "code",
   "execution_count": 12,
   "id": "ba3a1aed-2820-4ed9-8d55-a080d81cca94",
   "metadata": {},
   "outputs": [],
   "source": [
    "qc = QuantumCircuit(1)\n",
    "qc.h(0)            # Hadamard gate to qubit 0\n",
    "qc.measure_all()   # Measure all qubits"
   ]
  },
  {
   "cell_type": "markdown",
   "id": "57d9561e-223b-4865-8147-f5ddc38b4cf8",
   "metadata": {},
   "source": [
    "### Use this Simulator"
   ]
  },
  {
   "cell_type": "code",
   "execution_count": 13,
   "id": "ee57783a-7309-4fac-961e-c7791385cf6d",
   "metadata": {},
   "outputs": [],
   "source": [
    "simulator = AerSimulator()"
   ]
  },
  {
   "cell_type": "markdown",
   "id": "07ffe9a3-435f-46b4-b1ab-5ea1da5ce017",
   "metadata": {},
   "source": [
    "### Transpile the Circuit"
   ]
  },
  {
   "cell_type": "code",
   "execution_count": 14,
   "id": "7616e538-0b71-4ae5-bc2e-fd87537b533d",
   "metadata": {},
   "outputs": [],
   "source": [
    "compiled_circuit = transpile(qc, simulator)"
   ]
  },
  {
   "cell_type": "markdown",
   "id": "2cc6609e-1ce0-4b63-9571-c44f2a6c560e",
   "metadata": {},
   "source": [
    "### Execute the Circuit on the QASM Simulator"
   ]
  },
  {
   "cell_type": "code",
   "execution_count": 15,
   "id": "6dde4af9-bd14-4707-95f0-8b0dd56bb6c7",
   "metadata": {},
   "outputs": [],
   "source": [
    "job = simulator.run(compiled_circuit)"
   ]
  },
  {
   "cell_type": "markdown",
   "id": "a08b1c9e-87f4-4061-b124-d9d5bf2aefc1",
   "metadata": {},
   "source": [
    "### Get Results from the job"
   ]
  },
  {
   "cell_type": "code",
   "execution_count": 16,
   "id": "74529fe7-6efd-41ad-82b8-8e06248aa0d4",
   "metadata": {},
   "outputs": [],
   "source": [
    "result = job.result()"
   ]
  },
  {
   "cell_type": "markdown",
   "id": "8ef0afd4-350b-42f0-9c42-b6f9eaaa1884",
   "metadata": {},
   "source": [
    "### Print tittle and show Quantum Circit in text"
   ]
  },
  {
   "cell_type": "code",
   "execution_count": 17,
   "id": "13cd9cdf-5ea1-46e7-ae1c-c4c46f2e7d73",
   "metadata": {
    "scrolled": true
   },
   "outputs": [
    {
     "name": "stdout",
     "output_type": "stream",
     "text": [
      "Quantum Circuit Diagram\n",
      "        ┌───┐ ░ ┌─┐\n",
      "     q: ┤ H ├─░─┤M├\n",
      "        └───┘ ░ └╥┘\n",
      "meas: 1/═════════╩═\n",
      "                 0 \n"
     ]
    }
   ],
   "source": [
    "print('Quantum Circuit Diagram')\n",
    "print(qc.draw(output = 'text'))"
   ]
  },
  {
   "cell_type": "markdown",
   "id": "360463da-bc8b-41c3-962c-a1b688260642",
   "metadata": {},
   "source": [
    "### Get the count of the results"
   ]
  },
  {
   "cell_type": "code",
   "execution_count": 18,
   "id": "6271f3cc-2ea8-48da-9d7e-4ca255e708c5",
   "metadata": {},
   "outputs": [
    {
     "name": "stdout",
     "output_type": "stream",
     "text": [
      "\n",
      "Total count for 00 and 11 are: {'0': 501, '1': 523}\n"
     ]
    }
   ],
   "source": [
    "counts = result.get_counts(qc)\n",
    "print(\"\\nTotal count for 00 and 11 are:\", counts)"
   ]
  }
 ],
 "metadata": {
  "kernelspec": {
   "display_name": "Python 3 (ipykernel)",
   "language": "python",
   "name": "python3"
  },
  "language_info": {
   "codemirror_mode": {
    "name": "ipython",
    "version": 3
   },
   "file_extension": ".py",
   "mimetype": "text/x-python",
   "name": "python",
   "nbconvert_exporter": "python",
   "pygments_lexer": "ipython3",
   "version": "3.12.3"
  }
 },
 "nbformat": 4,
 "nbformat_minor": 5
}
