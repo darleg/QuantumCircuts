{
 "cells": [
  {
   "cell_type": "markdown",
   "id": "321bc812-5d0d-4139-9719-03875a632446",
   "metadata": {},
   "source": [
    "# Quantum Transportaion Circuit"
   ]
  },
  {
   "cell_type": "markdown",
   "id": "f27fedbe-512e-4d92-94b1-00b35b70a01b",
   "metadata": {},
   "source": [
    "## Import LIbray"
   ]
  },
  {
   "cell_type": "code",
   "execution_count": 2,
   "id": "bf112384-0ee0-462a-aa98-8cca38a8f1f2",
   "metadata": {},
   "outputs": [],
   "source": [
    "from qiskit import QuantumCircuit, transpile\n",
    "from qiskit_aer import AerSimulator"
   ]
  },
  {
   "cell_type": "markdown",
   "id": "ad9d508e-a0e7-49a1-84a5-d46c9c7e7ce8",
   "metadata": {},
   "source": [
    "## Create Quantum Transportation Circuit"
   ]
  },
  {
   "cell_type": "code",
   "execution_count": 3,
   "id": "5531a923-5e38-40d1-a0c1-2a87c61e3eab",
   "metadata": {},
   "outputs": [],
   "source": [
    "qc = QuantumCircuit(3)                          # Create Quantum Transportation Circuit\n",
    "qc.h(1)                                         # Hadamard gate to qubit 1\n",
    "qc.cx(1, 2)                                     # Controlled-NOT gate (control q1 and target 2)\n",
    "qc.cx(0, 1)                                     # Controlled-NOT gate (control q0 and target q1)\n",
    "qc.h(0)                                         # Hadamard gate to qubit 0\n",
    "qc.measure_all()                                # Measure all qubits"
   ]
  },
  {
   "cell_type": "markdown",
   "id": "8796d57d-4d3d-4d5f-bc90-55f755ce000a",
   "metadata": {},
   "source": [
    "## Run Circuit in Quantum Simulator"
   ]
  },
  {
   "cell_type": "code",
   "execution_count": 4,
   "id": "6dd44a87-09f0-4b99-ac41-57a4468693a1",
   "metadata": {},
   "outputs": [],
   "source": [
    "simulator = AerSimulator()                       # Use this imulator\n",
    "compiled_circuit = transpile(qc, simulator)      # Transpile the circuit\n",
    "job = simulator.run(compiled_circuit)            # Execute the circuit on the qasm simulator\n",
    "result = job.result()                            # Get results from the job"
   ]
  },
  {
   "cell_type": "markdown",
   "id": "b85833b3-9ce1-49ff-8de6-1ef536e411a8",
   "metadata": {},
   "source": [
    "## Draw Quantum Circuit Diagram with text"
   ]
  },
  {
   "cell_type": "code",
   "execution_count": 5,
   "id": "6861cf7b-8720-4914-855b-9ec6d9ef3154",
   "metadata": {},
   "outputs": [
    {
     "name": "stdout",
     "output_type": "stream",
     "text": [
      "Quantum Transportation Circuit Diagram\n",
      "                       ┌───┐ ░ ┌─┐      \n",
      "   q_0: ────────────■──┤ H ├─░─┤M├──────\n",
      "        ┌───┐     ┌─┴─┐└───┘ ░ └╥┘┌─┐   \n",
      "   q_1: ┤ H ├──■──┤ X ├──────░──╫─┤M├───\n",
      "        └───┘┌─┴─┐└───┘      ░  ║ └╥┘┌─┐\n",
      "   q_2: ─────┤ X ├───────────░──╫──╫─┤M├\n",
      "             └───┘           ░  ║  ║ └╥┘\n",
      "meas: 3/════════════════════════╩══╩══╩═\n",
      "                                0  1  2 \n"
     ]
    }
   ],
   "source": [
    "print('Quantum Transportation Circuit Diagram')  # Print Title\n",
    "print(qc.draw(output='text'))                    # Show Circuit in Text"
   ]
  },
  {
   "cell_type": "markdown",
   "id": "7b3e9c12-4e17-4a49-bb46-1dce6edc19ea",
   "metadata": {},
   "source": [
    "## Get the Count of the Results"
   ]
  },
  {
   "cell_type": "code",
   "execution_count": 6,
   "id": "06ac3cbe-11d1-4080-b2de-0192233c72a2",
   "metadata": {},
   "outputs": [
    {
     "name": "stdout",
     "output_type": "stream",
     "text": [
      "\n",
      "Total count for 00 and 11 are: {'001': 248, '000': 265, '111': 272, '110': 239}\n"
     ]
    }
   ],
   "source": [
    "counts = result.get_counts(qc)                     # get the counts of the results\n",
    "print(\"\\nTotal count for 00 and 11 are:\", counts)  # and print them"
   ]
  }
 ],
 "metadata": {
  "kernelspec": {
   "display_name": "Python 3 (ipykernel)",
   "language": "python",
   "name": "python3"
  },
  "language_info": {
   "codemirror_mode": {
    "name": "ipython",
    "version": 3
   },
   "file_extension": ".py",
   "mimetype": "text/x-python",
   "name": "python",
   "nbconvert_exporter": "python",
   "pygments_lexer": "ipython3",
   "version": "3.12.3"
  }
 },
 "nbformat": 4,
 "nbformat_minor": 5
}
